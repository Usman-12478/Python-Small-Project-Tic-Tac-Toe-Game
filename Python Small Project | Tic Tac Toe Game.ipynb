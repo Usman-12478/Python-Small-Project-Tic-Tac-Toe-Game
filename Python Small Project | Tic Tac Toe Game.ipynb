{
  "metadata": {
    "kernelspec": {
      "language": "python",
      "display_name": "Python 3",
      "name": "python3"
    },
    "language_info": {
      "name": "python",
      "version": "3.10.14",
      "mimetype": "text/x-python",
      "codemirror_mode": {
        "name": "ipython",
        "version": 3
      },
      "pygments_lexer": "ipython3",
      "nbconvert_exporter": "python",
      "file_extension": ".py"
    },
    "kaggle": {
      "accelerator": "none",
      "dataSources": [],
      "dockerImageVersionId": 30786,
      "isInternetEnabled": true,
      "language": "python",
      "sourceType": "notebook",
      "isGpuEnabled": false
    },
    "colab": {
      "name": "Python Small Project | Tic Tac Toe Game",
      "provenance": [],
      "include_colab_link": true
    }
  },
  "nbformat_minor": 0,
  "nbformat": 4,
  "cells": [
    {
      "cell_type": "markdown",
      "metadata": {
        "id": "view-in-github",
        "colab_type": "text"
      },
      "source": [
        "<a href=\"https://colab.research.google.com/github/Usman-12478/Python-Small-Project-Tic-Tac-Toe-Game/blob/main/Python%20Small%20Project%20%7C%20Tic%20Tac%20Toe%20Game.ipynb\" target=\"_parent\"><img src=\"https://colab.research.google.com/assets/colab-badge.svg\" alt=\"Open In Colab\"/></a>"
      ]
    },
    {
      "cell_type": "markdown",
      "source": [
        "# Structure Of Game"
      ],
      "metadata": {
        "id": "gDba0M_QoVE2"
      }
    },
    {
      "cell_type": "code",
      "source": [
        "board = [' '] * 9\n",
        "\n",
        "def draw_board():\n",
        "    row1 = '| {} | {} | {} | '.format(board[0], board[1], board[2])\n",
        "    row2 = '| {} | {} | {} | '.format(board[3], board[4], board[5])\n",
        "    row3 = '| {} | {} | {} | '.format(board[6], board[7], board[8])\n",
        "\n",
        "    print()\n",
        "    print(row1)\n",
        "    print(row2)\n",
        "    print(row3)\n",
        "    print()"
      ],
      "metadata": {
        "execution": {
          "iopub.status.busy": "2024-10-13T10:58:20.172966Z",
          "iopub.execute_input": "2024-10-13T10:58:20.173965Z",
          "iopub.status.idle": "2024-10-13T10:58:20.185267Z",
          "shell.execute_reply.started": "2024-10-13T10:58:20.173758Z",
          "shell.execute_reply": "2024-10-13T10:58:20.183555Z"
        },
        "trusted": true,
        "id": "WkKVc_DIoMTG"
      },
      "execution_count": 1,
      "outputs": []
    },
    {
      "cell_type": "markdown",
      "source": [
        "# Plyers And There Moves"
      ],
      "metadata": {
        "id": "onpFlFMmoaiO"
      }
    },
    {
      "cell_type": "code",
      "source": [
        "def player_move(player_icon):\n",
        "    if player_icon == \"X\":\n",
        "        player_name = 'Alex'\n",
        "    elif player_icon == \"O\":\n",
        "        player_name = \"Adam\"\n",
        "    else:\n",
        "        print(\"Invalid Icon. Please Use 'X' or 'O'.\")\n",
        "        return\n",
        "\n",
        "    print(\"Your Turn {}\".format(player_name))\n",
        "\n",
        "    while True:\n",
        "        try:\n",
        "            board_position = int(input(\"Enter Your Move: \").strip())\n",
        "            if board_position < 1 or board_position > 9:\n",
        "                print(\"Invalid Move. Please Enter a Number B/W 1 and 9!!\")\n",
        "            elif board[board_position - 1] == ' ':\n",
        "                board[board_position - 1] = player_icon\n",
        "                break\n",
        "            else:\n",
        "                print(\"That Space Is Taken. Please Choose Another One!\")\n",
        "        except ValueError:\n",
        "            print(\"Invalid Input. Please Enter A Number!!\")\n",
        "\n",
        ""
      ],
      "metadata": {
        "execution": {
          "iopub.status.busy": "2024-10-13T10:58:23.520002Z",
          "iopub.execute_input": "2024-10-13T10:58:23.520523Z",
          "iopub.status.idle": "2024-10-13T10:58:23.530708Z",
          "shell.execute_reply.started": "2024-10-13T10:58:23.520462Z",
          "shell.execute_reply": "2024-10-13T10:58:23.528845Z"
        },
        "trusted": true,
        "id": "MCuasmh9oMTP"
      },
      "execution_count": 2,
      "outputs": []
    },
    {
      "cell_type": "markdown",
      "source": [
        "# CheckWin Function"
      ],
      "metadata": {
        "id": "9ekfJs5aof9g"
      }
    },
    {
      "cell_type": "code",
      "source": [
        "def check_win(icon):\n",
        "    return  (board[0] == icon and board[1] == icon and board[2] == icon) or \\\n",
        "            (board[3] == icon and board[4] == icon and board[5] == icon) or \\\n",
        "            (board[6] == icon and board[7] == icon and board[8] == icon) or \\\n",
        "            (board[0] == icon and board[3] == icon and board[6] == icon) or \\\n",
        "            (board[1] == icon and board[4] == icon and board[7] == icon) or \\\n",
        "            (board[2] == icon and board[5] == icon and board[8] == icon) or \\\n",
        "            (board[0] == icon and board[4] == icon and board[8] == icon) or \\\n",
        "            (board[2] == icon and board[4] == icon and board[6] == icon)\n"
      ],
      "metadata": {
        "id": "facF7tALoMTS"
      },
      "execution_count": 4,
      "outputs": []
    },
    {
      "cell_type": "code",
      "source": [
        "def is_draw():\n",
        "    return not ' ' in board\n",
        "\n",
        "def reset_board():\n",
        "    global board\n",
        "    board = [' '] * 9"
      ],
      "metadata": {
        "id": "crzRqUCRoMTT"
      },
      "execution_count": 5,
      "outputs": []
    },
    {
      "cell_type": "markdown",
      "source": [
        "# Mian Game Loop"
      ],
      "metadata": {
        "id": "X6ZPkuAKolJS"
      }
    },
    {
      "cell_type": "code",
      "source": [
        "play_again_flag = True      # Flag to control the game loop\n",
        "\n",
        "# Main Game Loop\n",
        "while play_again_flag:\n",
        "    reset_board()\n",
        "    while True:\n",
        "        draw_board()\n",
        "        player_move('X')\n",
        "        if check_win('X'):\n",
        "            draw_board()\n",
        "            print(\"Player 1 Win, Congratulations!\")\n",
        "            break\n",
        "        elif is_draw():\n",
        "            draw_board()\n",
        "            print(\"It is draw!\")\n",
        "            break\n",
        "\n",
        "        draw_board()\n",
        "        player_move('O')\n",
        "        if check_win('O'):\n",
        "            draw_board()\n",
        "            print(\"Player 2 Win, Congratulations!\")\n",
        "            break\n",
        "\n",
        "    while True:\n",
        "        play_again = input(\"Do you want to play again (yes\\no): \")\n",
        "        if play_again.lower() == \"yes\":\n",
        "            break\n",
        "        elif play_again.lower() == \"no\":\n",
        "            print(\"GoodByeee!!\")\n",
        "            play_again_flag = False\n",
        "            break\n",
        "        else:\n",
        "            print(\"Invalid Choice. Please Enter Yes or No.\")"
      ],
      "metadata": {
        "execution": {
          "iopub.status.busy": "2024-10-13T10:57:17.910941Z",
          "iopub.execute_input": "2024-10-13T10:57:17.913542Z",
          "iopub.status.idle": "2024-10-13T10:58:00.474793Z",
          "shell.execute_reply.started": "2024-10-13T10:57:17.913453Z",
          "shell.execute_reply": "2024-10-13T10:58:00.473603Z"
        },
        "trusted": true,
        "id": "myPLP7FzoMTU",
        "outputId": "14a37d1e-004c-4ccc-f54b-119951a10de3",
        "colab": {
          "base_uri": "https://localhost:8080/"
        }
      },
      "execution_count": 7,
      "outputs": [
        {
          "output_type": "stream",
          "name": "stdout",
          "text": [
            "\n",
            "|   |   |   | \n",
            "|   |   |   | \n",
            "|   |   |   | \n",
            "\n",
            "Your Turn Alex\n",
            "Enter Your Move: 1\n",
            "\n",
            "| X |   |   | \n",
            "|   |   |   | \n",
            "|   |   |   | \n",
            "\n",
            "Your Turn Adam\n",
            "Enter Your Move: 9\n",
            "\n",
            "| X |   |   | \n",
            "|   |   |   | \n",
            "|   |   | O | \n",
            "\n",
            "Your Turn Alex\n",
            "Enter Your Move: 3\n",
            "\n",
            "| X |   | X | \n",
            "|   |   |   | \n",
            "|   |   | O | \n",
            "\n",
            "Your Turn Adam\n",
            "Enter Your Move: 2\n",
            "\n",
            "| X | O | X | \n",
            "|   |   |   | \n",
            "|   |   | O | \n",
            "\n",
            "Your Turn Alex\n",
            "Enter Your Move: 5\n",
            "\n",
            "| X | O | X | \n",
            "|   | X |   | \n",
            "|   |   | O | \n",
            "\n",
            "Your Turn Adam\n",
            "Enter Your Move: 7\n",
            "\n",
            "| X | O | X | \n",
            "|   | X |   | \n",
            "| O |   | O | \n",
            "\n",
            "Your Turn Alex\n",
            "Enter Your Move: 8\n",
            "\n",
            "| X | O | X | \n",
            "|   | X |   | \n",
            "| O | X | O | \n",
            "\n",
            "Your Turn Adam\n",
            "Enter Your Move: 4\n",
            "\n",
            "| X | O | X | \n",
            "| O | X |   | \n",
            "| O | X | O | \n",
            "\n",
            "Your Turn Alex\n",
            "Enter Your Move: 6\n",
            "\n",
            "| X | O | X | \n",
            "| O | X | X | \n",
            "| O | X | O | \n",
            "\n",
            "It is draw!\n",
            "Do you want to play again (yes\n",
            "o): no\n",
            "GoodByeee!!\n"
          ]
        }
      ]
    },
    {
      "cell_type": "code",
      "source": [],
      "metadata": {
        "id": "rj1v-8kroMTW"
      },
      "execution_count": null,
      "outputs": []
    }
  ]
}